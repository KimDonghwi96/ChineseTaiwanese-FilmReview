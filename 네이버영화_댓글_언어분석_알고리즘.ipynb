{
  "nbformat": 4,
  "nbformat_minor": 0,
  "metadata": {
    "colab": {
      "name": "네이버영화 댓글 언어분석 알고리즘.ipynb",
      "provenance": [],
      "collapsed_sections": [],
      "toc_visible": true,
      "include_colab_link": true
    },
    "kernelspec": {
      "name": "python3",
      "display_name": "Python 3"
    }
  },
  "cells": [
    {
      "cell_type": "markdown",
      "metadata": {
        "id": "view-in-github",
        "colab_type": "text"
      },
      "source": [
        "<a href=\"https://colab.research.google.com/github/KimDonghwi96/ChineseTaiwanese-FilmReview/blob/main/%EB%84%A4%EC%9D%B4%EB%B2%84%EC%98%81%ED%99%94_%EB%8C%93%EA%B8%80_%EC%96%B8%EC%96%B4%EB%B6%84%EC%84%9D_%EC%95%8C%EA%B3%A0%EB%A6%AC%EC%A6%98.ipynb\" target=\"_parent\"><img src=\"https://colab.research.google.com/assets/colab-badge.svg\" alt=\"Open In Colab\"/></a>"
      ]
    },
    {
      "cell_type": "markdown",
      "metadata": {
        "id": "f7Ep46Z1pMqY"
      },
      "source": [
        "# 환경 준비"
      ]
    },
    {
      "cell_type": "code",
      "metadata": {
        "id": "KHuJ_eoto7QV",
        "colab": {
          "base_uri": "https://localhost:8080/"
        },
        "outputId": "9228fc41-0763-400f-8b0b-8365d109b936"
      },
      "source": [
        "# konlpy 설치하기 ## https://data1000.tistory.com/33\n",
        "!pip3 install jpype1==0.7.0\n",
        "!pip3 install konlpy"
      ],
      "execution_count": null,
      "outputs": [
        {
          "output_type": "stream",
          "text": [
            "Collecting jpype1==0.7.0\n",
            "\u001b[?25l  Downloading https://files.pythonhosted.org/packages/07/09/e19ce27d41d4f66d73ac5b6c6a188c51b506f56c7bfbe6c1491db2d15995/JPype1-0.7.0-cp36-cp36m-manylinux2010_x86_64.whl (2.7MB)\n",
            "\u001b[K     |████████████████████████████████| 2.7MB 6.8MB/s \n",
            "\u001b[?25hInstalling collected packages: jpype1\n",
            "Successfully installed jpype1-0.7.0\n",
            "Collecting konlpy\n",
            "\u001b[?25l  Downloading https://files.pythonhosted.org/packages/85/0e/f385566fec837c0b83f216b2da65db9997b35dd675e107752005b7d392b1/konlpy-0.5.2-py2.py3-none-any.whl (19.4MB)\n",
            "\u001b[K     |████████████████████████████████| 19.4MB 1.2MB/s \n",
            "\u001b[?25hRequirement already satisfied: numpy>=1.6 in /usr/local/lib/python3.6/dist-packages (from konlpy) (1.18.5)\n",
            "Collecting colorama\n",
            "  Downloading https://files.pythonhosted.org/packages/44/98/5b86278fbbf250d239ae0ecb724f8572af1c91f4a11edf4d36a206189440/colorama-0.4.4-py2.py3-none-any.whl\n",
            "Requirement already satisfied: JPype1>=0.7.0 in /usr/local/lib/python3.6/dist-packages (from konlpy) (0.7.0)\n",
            "Collecting beautifulsoup4==4.6.0\n",
            "\u001b[?25l  Downloading https://files.pythonhosted.org/packages/9e/d4/10f46e5cfac773e22707237bfcd51bbffeaf0a576b0a847ec7ab15bd7ace/beautifulsoup4-4.6.0-py3-none-any.whl (86kB)\n",
            "\u001b[K     |████████████████████████████████| 92kB 10.9MB/s \n",
            "\u001b[?25hCollecting tweepy>=3.7.0\n",
            "  Downloading https://files.pythonhosted.org/packages/bb/7c/99d51f80f3b77b107ebae2634108717362c059a41384a1810d13e2429a81/tweepy-3.9.0-py2.py3-none-any.whl\n",
            "Requirement already satisfied: lxml>=4.1.0 in /usr/local/lib/python3.6/dist-packages (from konlpy) (4.2.6)\n",
            "Requirement already satisfied: requests-oauthlib>=0.7.0 in /usr/local/lib/python3.6/dist-packages (from tweepy>=3.7.0->konlpy) (1.3.0)\n",
            "Requirement already satisfied: six>=1.10.0 in /usr/local/lib/python3.6/dist-packages (from tweepy>=3.7.0->konlpy) (1.15.0)\n",
            "Requirement already satisfied: requests[socks]>=2.11.1 in /usr/local/lib/python3.6/dist-packages (from tweepy>=3.7.0->konlpy) (2.23.0)\n",
            "Requirement already satisfied: oauthlib>=3.0.0 in /usr/local/lib/python3.6/dist-packages (from requests-oauthlib>=0.7.0->tweepy>=3.7.0->konlpy) (3.1.0)\n",
            "Requirement already satisfied: urllib3!=1.25.0,!=1.25.1,<1.26,>=1.21.1 in /usr/local/lib/python3.6/dist-packages (from requests[socks]>=2.11.1->tweepy>=3.7.0->konlpy) (1.24.3)\n",
            "Requirement already satisfied: idna<3,>=2.5 in /usr/local/lib/python3.6/dist-packages (from requests[socks]>=2.11.1->tweepy>=3.7.0->konlpy) (2.10)\n",
            "Requirement already satisfied: certifi>=2017.4.17 in /usr/local/lib/python3.6/dist-packages (from requests[socks]>=2.11.1->tweepy>=3.7.0->konlpy) (2020.11.8)\n",
            "Requirement already satisfied: chardet<4,>=3.0.2 in /usr/local/lib/python3.6/dist-packages (from requests[socks]>=2.11.1->tweepy>=3.7.0->konlpy) (3.0.4)\n",
            "Requirement already satisfied: PySocks!=1.5.7,>=1.5.6; extra == \"socks\" in /usr/local/lib/python3.6/dist-packages (from requests[socks]>=2.11.1->tweepy>=3.7.0->konlpy) (1.7.1)\n",
            "Installing collected packages: colorama, beautifulsoup4, tweepy, konlpy\n",
            "  Found existing installation: beautifulsoup4 4.6.3\n",
            "    Uninstalling beautifulsoup4-4.6.3:\n",
            "      Successfully uninstalled beautifulsoup4-4.6.3\n",
            "  Found existing installation: tweepy 3.6.0\n",
            "    Uninstalling tweepy-3.6.0:\n",
            "      Successfully uninstalled tweepy-3.6.0\n",
            "Successfully installed beautifulsoup4-4.6.0 colorama-0.4.4 konlpy-0.5.2 tweepy-3.9.0\n"
          ],
          "name": "stdout"
        }
      ]
    },
    {
      "cell_type": "code",
      "metadata": {
        "id": "v8s7pm2Ko_tt"
      },
      "source": [
        "# konlpy를 실행하기\n",
        "import konlpy"
      ],
      "execution_count": null,
      "outputs": []
    },
    {
      "cell_type": "code",
      "metadata": {
        "id": "JkwDdwbgo-Mp",
        "cellView": "both"
      },
      "source": [
        "## pandas을 실행하기, 단 실행 별명을 pd로\n",
        "import pandas as pd"
      ],
      "execution_count": null,
      "outputs": []
    },
    {
      "cell_type": "markdown",
      "metadata": {
        "id": "wycgqiQspQEL"
      },
      "source": [
        "# 데이터 불러오기"
      ]
    },
    {
      "cell_type": "code",
      "metadata": {
        "id": "EXSbylvjpUXC"
      },
      "source": [
        "# 구글 드라이브 연결을 위한 기본 세팅 \n",
        "!pip install -U -q PyDrive\n",
        " \n",
        "from pydrive.auth import GoogleAuth\n",
        "from pydrive.drive import GoogleDrive\n",
        "from google.colab import auth\n",
        "from oauth2client.client import GoogleCredentials\n",
        "\n",
        "auth.authenticate_user()\n",
        "gauth = GoogleAuth()\n",
        "gauth.credentials = GoogleCredentials.get_application_default()\n",
        "drive = GoogleDrive(gauth)"
      ],
      "execution_count": null,
      "outputs": []
    },
    {
      "cell_type": "code",
      "metadata": {
        "id": "HbrxvTb0pkKR"
      },
      "source": [
        "## 문서 ID로 실제 파일 불러오기\n",
        "# 실습을 위한 역대 대통령 취임사: 노무현, 이명박, 박근혜, 문재인\n",
        "## https://drive.google.com/open?id=1E2RtqkmRMI53j8IQGslP3XNmO0S36ccN\n",
        "\n",
        "rawdata_downloaded = drive.CreateFile({'id': '1E2RtqkmRMI53j8IQGslP3XNmO0S36ccN'})\n",
        "rawdata_downloaded.GetContentFile('진짜2.txt')"
      ],
      "execution_count": null,
      "outputs": []
    },
    {
      "cell_type": "code",
      "metadata": {
        "id": "Pk186oQ5pwM4"
      },
      "source": [
        "# \"rawdata.txt\" 파일의 내용을 \"원본데이터\" 변수로 불러오기\n",
        "원본데이터 = pd.read_csv('진짜2.txt', sep=\"\\t\")"
      ],
      "execution_count": null,
      "outputs": []
    },
    {
      "cell_type": "code",
      "metadata": {
        "id": "HC4ZKjPapy8w",
        "colab": {
          "base_uri": "https://localhost:8080/",
          "height": 419
        },
        "outputId": "a63ca7a7-9c6e-4cac-b56a-ea20493070d8"
      },
      "source": [
        "# \"원본데이터\" 변수 내용 확인하기\n",
        "원본데이터"
      ],
      "execution_count": null,
      "outputs": [
        {
          "output_type": "execute_result",
          "data": {
            "text/html": [
              "<div>\n",
              "<style scoped>\n",
              "    .dataframe tbody tr th:only-of-type {\n",
              "        vertical-align: middle;\n",
              "    }\n",
              "\n",
              "    .dataframe tbody tr th {\n",
              "        vertical-align: top;\n",
              "    }\n",
              "\n",
              "    .dataframe thead th {\n",
              "        text-align: right;\n",
              "    }\n",
              "</style>\n",
              "<table border=\"1\" class=\"dataframe\">\n",
              "  <thead>\n",
              "    <tr style=\"text-align: right;\">\n",
              "      <th></th>\n",
              "      <th>number</th>\n",
              "      <th>type</th>\n",
              "      <th>text</th>\n",
              "      <th>point</th>\n",
              "      <th>nickname</th>\n",
              "      <th>score</th>\n",
              "      <th>like</th>\n",
              "      <th>dislike</th>\n",
              "      <th>time</th>\n",
              "    </tr>\n",
              "  </thead>\n",
              "  <tbody>\n",
              "    <tr>\n",
              "      <th>0</th>\n",
              "      <td>0</td>\n",
              "      <td>5일의마중</td>\n",
              "      <td>길고 긴 여운을 깰 자신이 없는 영화</td>\n",
              "      <td>연기</td>\n",
              "      <td>임치즈(mimi****)</td>\n",
              "      <td>10.0</td>\n",
              "      <td>208.0</td>\n",
              "      <td>18.0</td>\n",
              "      <td>2014-10-08 17:44</td>\n",
              "    </tr>\n",
              "    <tr>\n",
              "      <th>1</th>\n",
              "      <td>1</td>\n",
              "      <td>5일의마중</td>\n",
              "      <td>상대의 눈에 비치는 내 모습이 아닌, 그 사람 자체를 사랑하는 것이 어떤 것인지를 ...</td>\n",
              "      <td>연기</td>\n",
              "      <td>lumiere428(ally****)</td>\n",
              "      <td>10.0</td>\n",
              "      <td>189.0</td>\n",
              "      <td>17.0</td>\n",
              "      <td>2014-10-08 13:16</td>\n",
              "    </tr>\n",
              "    <tr>\n",
              "      <th>2</th>\n",
              "      <td>2</td>\n",
              "      <td>5일의마중</td>\n",
              "      <td>영화는 절대 먼저 울지 않는데, 보는 사람은 가슴이 미어진다.</td>\n",
              "      <td>연기</td>\n",
              "      <td>jimmani(jimm****)</td>\n",
              "      <td>10.0</td>\n",
              "      <td>147.0</td>\n",
              "      <td>10.0</td>\n",
              "      <td>2014-10-09 0:12</td>\n",
              "    </tr>\n",
              "    <tr>\n",
              "      <th>3</th>\n",
              "      <td>3</td>\n",
              "      <td>5일의마중</td>\n",
              "      <td>올해본 영화중에 최고. 영화관에서 얼마나 눈물을 쏟아냈는지 모른다.</td>\n",
              "      <td>연기</td>\n",
              "      <td>그레이스(ksw3****)</td>\n",
              "      <td>10.0</td>\n",
              "      <td>121.0</td>\n",
              "      <td>13.0</td>\n",
              "      <td>2014-10-08 21:48</td>\n",
              "    </tr>\n",
              "    <tr>\n",
              "      <th>4</th>\n",
              "      <td>4</td>\n",
              "      <td>5일의마중</td>\n",
              "      <td>공리...우와...</td>\n",
              "      <td>연기</td>\n",
              "      <td>voirmonparadis(core****)</td>\n",
              "      <td>10.0</td>\n",
              "      <td>113.0</td>\n",
              "      <td>6.0</td>\n",
              "      <td>2014-10-09 13:30</td>\n",
              "    </tr>\n",
              "    <tr>\n",
              "      <th>...</th>\n",
              "      <td>...</td>\n",
              "      <td>...</td>\n",
              "      <td>...</td>\n",
              "      <td>...</td>\n",
              "      <td>...</td>\n",
              "      <td>...</td>\n",
              "      <td>...</td>\n",
              "      <td>...</td>\n",
              "      <td>...</td>\n",
              "    </tr>\n",
              "    <tr>\n",
              "      <th>54509</th>\n",
              "      <td>54510</td>\n",
              "      <td>패왕별희</td>\n",
              "      <td>장국영의 게이 연기 너무나도 역겨웠다</td>\n",
              "      <td>연기/연출/스토리</td>\n",
              "      <td>우주최강(rlat****)</td>\n",
              "      <td>10.0</td>\n",
              "      <td>2.0</td>\n",
              "      <td>2.0</td>\n",
              "      <td>2020-05-02 22:30</td>\n",
              "    </tr>\n",
              "    <tr>\n",
              "      <th>54510</th>\n",
              "      <td>54511</td>\n",
              "      <td>패왕별희</td>\n",
              "      <td>경극 소리 시끄럽다.그리고 중꿔들 왜 그렇게 벚고 다님?</td>\n",
              "      <td>연기/연출/스토리</td>\n",
              "      <td>코무(gkdl****)</td>\n",
              "      <td>10.0</td>\n",
              "      <td>2.0</td>\n",
              "      <td>2.0</td>\n",
              "      <td>2020-05-02 18:47</td>\n",
              "    </tr>\n",
              "    <tr>\n",
              "      <th>54511</th>\n",
              "      <td>54512</td>\n",
              "      <td>패왕별희</td>\n",
              "      <td>아무리 명작이라도 짱깨는 거르자</td>\n",
              "      <td>연기/연출/스토리</td>\n",
              "      <td>김채원(chaw****)</td>\n",
              "      <td>10.0</td>\n",
              "      <td>2.0</td>\n",
              "      <td>2.0</td>\n",
              "      <td>2020-05-02 17:47</td>\n",
              "    </tr>\n",
              "    <tr>\n",
              "      <th>54512</th>\n",
              "      <td>54513</td>\n",
              "      <td>패왕별희</td>\n",
              "      <td>와 이건 1점도 아깝다 진짜 재미없고 지루한 영화ㅡㅡ 여기 진짜 거의다 중국인들이 ...</td>\n",
              "      <td>연기/연출/스토리</td>\n",
              "      <td>oay2****</td>\n",
              "      <td>10.0</td>\n",
              "      <td>2.0</td>\n",
              "      <td>2.0</td>\n",
              "      <td>2020-05-02 11:13</td>\n",
              "    </tr>\n",
              "    <tr>\n",
              "      <th>54513</th>\n",
              "      <td>54514</td>\n",
              "      <td>패왕별희</td>\n",
              "      <td>여자들이 추천해줘서 봤더니 게이영화.. 극악이다보다가 토할뻔해서 껐다</td>\n",
              "      <td>연기/연출/스토리</td>\n",
              "      <td>wayback(0810****)</td>\n",
              "      <td>8.0</td>\n",
              "      <td>2.0</td>\n",
              "      <td>2.0</td>\n",
              "      <td>2020-05-02 3:44</td>\n",
              "    </tr>\n",
              "  </tbody>\n",
              "</table>\n",
              "<p>54514 rows × 9 columns</p>\n",
              "</div>"
            ],
            "text/plain": [
              "      number   type  ... dislike              time\n",
              "0          0  5일의마중  ...    18.0  2014-10-08 17:44\n",
              "1          1  5일의마중  ...    17.0  2014-10-08 13:16\n",
              "2          2  5일의마중  ...    10.0   2014-10-09 0:12\n",
              "3          3  5일의마중  ...    13.0  2014-10-08 21:48\n",
              "4          4  5일의마중  ...     6.0  2014-10-09 13:30\n",
              "...      ...    ...  ...     ...               ...\n",
              "54509  54510   패왕별희  ...     2.0  2020-05-02 22:30\n",
              "54510  54511   패왕별희  ...     2.0  2020-05-02 18:47\n",
              "54511  54512   패왕별희  ...     2.0  2020-05-02 17:47\n",
              "54512  54513   패왕별희  ...     2.0  2020-05-02 11:13\n",
              "54513  54514   패왕별희  ...     2.0   2020-05-02 3:44\n",
              "\n",
              "[54514 rows x 9 columns]"
            ]
          },
          "metadata": {
            "tags": []
          },
          "execution_count": 7
        }
      ]
    },
    {
      "cell_type": "code",
      "metadata": {
        "id": "zz7nz1wlJ9BP"
      },
      "source": [
        "원본데이터 = 원본데이터.dropna(axis=0)"
      ],
      "execution_count": null,
      "outputs": []
    },
    {
      "cell_type": "code",
      "metadata": {
        "colab": {
          "base_uri": "https://localhost:8080/",
          "height": 419
        },
        "id": "n2jp4HrFJ-WA",
        "outputId": "73a49463-5536-47a0-dba8-6bab28e12bc2"
      },
      "source": [
        "# \"원본데이터\" 변수 내용 확인하기\n",
        "원본데이터"
      ],
      "execution_count": null,
      "outputs": [
        {
          "output_type": "execute_result",
          "data": {
            "text/html": [
              "<div>\n",
              "<style scoped>\n",
              "    .dataframe tbody tr th:only-of-type {\n",
              "        vertical-align: middle;\n",
              "    }\n",
              "\n",
              "    .dataframe tbody tr th {\n",
              "        vertical-align: top;\n",
              "    }\n",
              "\n",
              "    .dataframe thead th {\n",
              "        text-align: right;\n",
              "    }\n",
              "</style>\n",
              "<table border=\"1\" class=\"dataframe\">\n",
              "  <thead>\n",
              "    <tr style=\"text-align: right;\">\n",
              "      <th></th>\n",
              "      <th>number</th>\n",
              "      <th>type</th>\n",
              "      <th>text</th>\n",
              "      <th>point</th>\n",
              "      <th>nickname</th>\n",
              "      <th>score</th>\n",
              "      <th>like</th>\n",
              "      <th>dislike</th>\n",
              "      <th>time</th>\n",
              "    </tr>\n",
              "  </thead>\n",
              "  <tbody>\n",
              "    <tr>\n",
              "      <th>0</th>\n",
              "      <td>0</td>\n",
              "      <td>5일의마중</td>\n",
              "      <td>길고 긴 여운을 깰 자신이 없는 영화</td>\n",
              "      <td>연기</td>\n",
              "      <td>임치즈(mimi****)</td>\n",
              "      <td>10.0</td>\n",
              "      <td>208.0</td>\n",
              "      <td>18.0</td>\n",
              "      <td>2014-10-08 17:44</td>\n",
              "    </tr>\n",
              "    <tr>\n",
              "      <th>1</th>\n",
              "      <td>1</td>\n",
              "      <td>5일의마중</td>\n",
              "      <td>상대의 눈에 비치는 내 모습이 아닌, 그 사람 자체를 사랑하는 것이 어떤 것인지를 ...</td>\n",
              "      <td>연기</td>\n",
              "      <td>lumiere428(ally****)</td>\n",
              "      <td>10.0</td>\n",
              "      <td>189.0</td>\n",
              "      <td>17.0</td>\n",
              "      <td>2014-10-08 13:16</td>\n",
              "    </tr>\n",
              "    <tr>\n",
              "      <th>2</th>\n",
              "      <td>2</td>\n",
              "      <td>5일의마중</td>\n",
              "      <td>영화는 절대 먼저 울지 않는데, 보는 사람은 가슴이 미어진다.</td>\n",
              "      <td>연기</td>\n",
              "      <td>jimmani(jimm****)</td>\n",
              "      <td>10.0</td>\n",
              "      <td>147.0</td>\n",
              "      <td>10.0</td>\n",
              "      <td>2014-10-09 0:12</td>\n",
              "    </tr>\n",
              "    <tr>\n",
              "      <th>3</th>\n",
              "      <td>3</td>\n",
              "      <td>5일의마중</td>\n",
              "      <td>올해본 영화중에 최고. 영화관에서 얼마나 눈물을 쏟아냈는지 모른다.</td>\n",
              "      <td>연기</td>\n",
              "      <td>그레이스(ksw3****)</td>\n",
              "      <td>10.0</td>\n",
              "      <td>121.0</td>\n",
              "      <td>13.0</td>\n",
              "      <td>2014-10-08 21:48</td>\n",
              "    </tr>\n",
              "    <tr>\n",
              "      <th>4</th>\n",
              "      <td>4</td>\n",
              "      <td>5일의마중</td>\n",
              "      <td>공리...우와...</td>\n",
              "      <td>연기</td>\n",
              "      <td>voirmonparadis(core****)</td>\n",
              "      <td>10.0</td>\n",
              "      <td>113.0</td>\n",
              "      <td>6.0</td>\n",
              "      <td>2014-10-09 13:30</td>\n",
              "    </tr>\n",
              "    <tr>\n",
              "      <th>...</th>\n",
              "      <td>...</td>\n",
              "      <td>...</td>\n",
              "      <td>...</td>\n",
              "      <td>...</td>\n",
              "      <td>...</td>\n",
              "      <td>...</td>\n",
              "      <td>...</td>\n",
              "      <td>...</td>\n",
              "      <td>...</td>\n",
              "    </tr>\n",
              "    <tr>\n",
              "      <th>54509</th>\n",
              "      <td>54510</td>\n",
              "      <td>패왕별희</td>\n",
              "      <td>장국영의 게이 연기 너무나도 역겨웠다</td>\n",
              "      <td>연기/연출/스토리</td>\n",
              "      <td>우주최강(rlat****)</td>\n",
              "      <td>10.0</td>\n",
              "      <td>2.0</td>\n",
              "      <td>2.0</td>\n",
              "      <td>2020-05-02 22:30</td>\n",
              "    </tr>\n",
              "    <tr>\n",
              "      <th>54510</th>\n",
              "      <td>54511</td>\n",
              "      <td>패왕별희</td>\n",
              "      <td>경극 소리 시끄럽다.그리고 중꿔들 왜 그렇게 벚고 다님?</td>\n",
              "      <td>연기/연출/스토리</td>\n",
              "      <td>코무(gkdl****)</td>\n",
              "      <td>10.0</td>\n",
              "      <td>2.0</td>\n",
              "      <td>2.0</td>\n",
              "      <td>2020-05-02 18:47</td>\n",
              "    </tr>\n",
              "    <tr>\n",
              "      <th>54511</th>\n",
              "      <td>54512</td>\n",
              "      <td>패왕별희</td>\n",
              "      <td>아무리 명작이라도 짱깨는 거르자</td>\n",
              "      <td>연기/연출/스토리</td>\n",
              "      <td>김채원(chaw****)</td>\n",
              "      <td>10.0</td>\n",
              "      <td>2.0</td>\n",
              "      <td>2.0</td>\n",
              "      <td>2020-05-02 17:47</td>\n",
              "    </tr>\n",
              "    <tr>\n",
              "      <th>54512</th>\n",
              "      <td>54513</td>\n",
              "      <td>패왕별희</td>\n",
              "      <td>와 이건 1점도 아깝다 진짜 재미없고 지루한 영화ㅡㅡ 여기 진짜 거의다 중국인들이 ...</td>\n",
              "      <td>연기/연출/스토리</td>\n",
              "      <td>oay2****</td>\n",
              "      <td>10.0</td>\n",
              "      <td>2.0</td>\n",
              "      <td>2.0</td>\n",
              "      <td>2020-05-02 11:13</td>\n",
              "    </tr>\n",
              "    <tr>\n",
              "      <th>54513</th>\n",
              "      <td>54514</td>\n",
              "      <td>패왕별희</td>\n",
              "      <td>여자들이 추천해줘서 봤더니 게이영화.. 극악이다보다가 토할뻔해서 껐다</td>\n",
              "      <td>연기/연출/스토리</td>\n",
              "      <td>wayback(0810****)</td>\n",
              "      <td>8.0</td>\n",
              "      <td>2.0</td>\n",
              "      <td>2.0</td>\n",
              "      <td>2020-05-02 3:44</td>\n",
              "    </tr>\n",
              "  </tbody>\n",
              "</table>\n",
              "<p>54497 rows × 9 columns</p>\n",
              "</div>"
            ],
            "text/plain": [
              "      number   type  ... dislike              time\n",
              "0          0  5일의마중  ...    18.0  2014-10-08 17:44\n",
              "1          1  5일의마중  ...    17.0  2014-10-08 13:16\n",
              "2          2  5일의마중  ...    10.0   2014-10-09 0:12\n",
              "3          3  5일의마중  ...    13.0  2014-10-08 21:48\n",
              "4          4  5일의마중  ...     6.0  2014-10-09 13:30\n",
              "...      ...    ...  ...     ...               ...\n",
              "54509  54510   패왕별희  ...     2.0  2020-05-02 22:30\n",
              "54510  54511   패왕별희  ...     2.0  2020-05-02 18:47\n",
              "54511  54512   패왕별희  ...     2.0  2020-05-02 17:47\n",
              "54512  54513   패왕별희  ...     2.0  2020-05-02 11:13\n",
              "54513  54514   패왕별희  ...     2.0   2020-05-02 3:44\n",
              "\n",
              "[54497 rows x 9 columns]"
            ]
          },
          "metadata": {
            "tags": []
          },
          "execution_count": 9
        }
      ]
    },
    {
      "cell_type": "markdown",
      "metadata": {
        "id": "Wce9yoP4q1Oy"
      },
      "source": [
        "# 형태소 분석"
      ]
    },
    {
      "cell_type": "code",
      "metadata": {
        "id": "zxUfvTLTrD4U"
      },
      "source": [
        "# konlpy(한국어형태소분석기) 중에서 Okt 실행하기\n",
        "from konlpy.tag import Okt\n",
        "okt = Okt()"
      ],
      "execution_count": null,
      "outputs": []
    },
    {
      "cell_type": "code",
      "metadata": {
        "id": "2aGAOf86rFt4"
      },
      "source": [
        "# \"원본데이터\"를 대상으로 \"okt\"를 사용해서 형태소 분석하기\n",
        "저장공간  = []\n",
        "for index, row in 원본데이터.iterrows(): # 원본데이터의 컬럼(열)을 불러와서 반복할 준비!\n",
        "    대상텍스트 = row[2] # 분석에서 사용할 텍스트 정보가 있는 열을 지정해준다. 주의! python은 0부터 시작한다!\n",
        "    분류 = row[1] # 분석에서 사용할 분류 정보가 있는 열을 지정해준다. 주의! python은 0부터 시작한다!\n",
        "    형태소 = list(okt.pos(대상텍스트)) # okt의 pos 기능을 활용해서 대상 텍스트를 형태소 분리한다.\n",
        "    형태소종합 = pd.DataFrame.from_records(형태소) # 형태소에 저장된 내용을 데이터프레임 형태로 해서 형태소종합으로 저장한다.\n",
        "    형태소종합['type'] = 분류 # 형태소종합에 분류정보를 추가한다.\n",
        "    형태소종합['count'] = 1   # 형태소종합에 카운트정보를 추가한다.   \n",
        "    저장공간.append(형태소종합) # 형태소종합의 내용을 종합하여 저장한다."
      ],
      "execution_count": null,
      "outputs": []
    },
    {
      "cell_type": "code",
      "metadata": {
        "id": "jPg2tnvYrdYm"
      },
      "source": [
        "# \"저장공간\" 변수의 내용을 데이터프레임 형식으로 변환해서 \"분석통합\" 변수에 저장한다.\n",
        "분석통합 = pd.concat(저장공간)"
      ],
      "execution_count": null,
      "outputs": []
    },
    {
      "cell_type": "code",
      "metadata": {
        "id": "aW9KPz-GrfGO",
        "colab": {
          "base_uri": "https://localhost:8080/",
          "height": 419
        },
        "outputId": "232e191e-0327-46fc-bb91-c59e8c9e049b"
      },
      "source": [
        "# \"분석통합\" 변수의 저장 내용 확인\n",
        "분석통합"
      ],
      "execution_count": null,
      "outputs": [
        {
          "output_type": "execute_result",
          "data": {
            "text/html": [
              "<div>\n",
              "<style scoped>\n",
              "    .dataframe tbody tr th:only-of-type {\n",
              "        vertical-align: middle;\n",
              "    }\n",
              "\n",
              "    .dataframe tbody tr th {\n",
              "        vertical-align: top;\n",
              "    }\n",
              "\n",
              "    .dataframe thead th {\n",
              "        text-align: right;\n",
              "    }\n",
              "</style>\n",
              "<table border=\"1\" class=\"dataframe\">\n",
              "  <thead>\n",
              "    <tr style=\"text-align: right;\">\n",
              "      <th></th>\n",
              "      <th>0</th>\n",
              "      <th>1</th>\n",
              "      <th>type</th>\n",
              "      <th>count</th>\n",
              "    </tr>\n",
              "  </thead>\n",
              "  <tbody>\n",
              "    <tr>\n",
              "      <th>0</th>\n",
              "      <td>길고</td>\n",
              "      <td>Adjective</td>\n",
              "      <td>5일의마중</td>\n",
              "      <td>1</td>\n",
              "    </tr>\n",
              "    <tr>\n",
              "      <th>1</th>\n",
              "      <td>긴</td>\n",
              "      <td>Verb</td>\n",
              "      <td>5일의마중</td>\n",
              "      <td>1</td>\n",
              "    </tr>\n",
              "    <tr>\n",
              "      <th>2</th>\n",
              "      <td>여운</td>\n",
              "      <td>Noun</td>\n",
              "      <td>5일의마중</td>\n",
              "      <td>1</td>\n",
              "    </tr>\n",
              "    <tr>\n",
              "      <th>3</th>\n",
              "      <td>을</td>\n",
              "      <td>Josa</td>\n",
              "      <td>5일의마중</td>\n",
              "      <td>1</td>\n",
              "    </tr>\n",
              "    <tr>\n",
              "      <th>4</th>\n",
              "      <td>깰</td>\n",
              "      <td>Verb</td>\n",
              "      <td>5일의마중</td>\n",
              "      <td>1</td>\n",
              "    </tr>\n",
              "    <tr>\n",
              "      <th>...</th>\n",
              "      <td>...</td>\n",
              "      <td>...</td>\n",
              "      <td>...</td>\n",
              "      <td>...</td>\n",
              "    </tr>\n",
              "    <tr>\n",
              "      <th>11</th>\n",
              "      <td>보다가</td>\n",
              "      <td>Verb</td>\n",
              "      <td>패왕별희</td>\n",
              "      <td>1</td>\n",
              "    </tr>\n",
              "    <tr>\n",
              "      <th>12</th>\n",
              "      <td>토</td>\n",
              "      <td>Noun</td>\n",
              "      <td>패왕별희</td>\n",
              "      <td>1</td>\n",
              "    </tr>\n",
              "    <tr>\n",
              "      <th>13</th>\n",
              "      <td>할</td>\n",
              "      <td>Verb</td>\n",
              "      <td>패왕별희</td>\n",
              "      <td>1</td>\n",
              "    </tr>\n",
              "    <tr>\n",
              "      <th>14</th>\n",
              "      <td>뻔해서</td>\n",
              "      <td>Adjective</td>\n",
              "      <td>패왕별희</td>\n",
              "      <td>1</td>\n",
              "    </tr>\n",
              "    <tr>\n",
              "      <th>15</th>\n",
              "      <td>껐다</td>\n",
              "      <td>Verb</td>\n",
              "      <td>패왕별희</td>\n",
              "      <td>1</td>\n",
              "    </tr>\n",
              "  </tbody>\n",
              "</table>\n",
              "<p>624023 rows × 4 columns</p>\n",
              "</div>"
            ],
            "text/plain": [
              "      0          1   type  count\n",
              "0    길고  Adjective  5일의마중      1\n",
              "1     긴       Verb  5일의마중      1\n",
              "2    여운       Noun  5일의마중      1\n",
              "3     을       Josa  5일의마중      1\n",
              "4     깰       Verb  5일의마중      1\n",
              "..  ...        ...    ...    ...\n",
              "11  보다가       Verb   패왕별희      1\n",
              "12    토       Noun   패왕별희      1\n",
              "13    할       Verb   패왕별희      1\n",
              "14  뻔해서  Adjective   패왕별희      1\n",
              "15   껐다       Verb   패왕별희      1\n",
              "\n",
              "[624023 rows x 4 columns]"
            ]
          },
          "metadata": {
            "tags": []
          },
          "execution_count": 13
        }
      ]
    },
    {
      "cell_type": "code",
      "metadata": {
        "id": "mYBnRLrOremd"
      },
      "source": [
        "# \"분석통합\" 변수의 컬럼(열) 이름 변경\n",
        "분석통합.columns = [\"형태소\", \"품사\", \"분류\", \"카운트\"]"
      ],
      "execution_count": null,
      "outputs": []
    },
    {
      "cell_type": "code",
      "metadata": {
        "id": "KIEaYMwSriNW",
        "colab": {
          "base_uri": "https://localhost:8080/",
          "height": 419
        },
        "outputId": "7d3d4d49-0408-4b5b-b2d8-e6c8d482015f"
      },
      "source": [
        "# \"분석통합\" 변수의 저장 내용 확인\n",
        "분석통합"
      ],
      "execution_count": null,
      "outputs": [
        {
          "output_type": "execute_result",
          "data": {
            "text/html": [
              "<div>\n",
              "<style scoped>\n",
              "    .dataframe tbody tr th:only-of-type {\n",
              "        vertical-align: middle;\n",
              "    }\n",
              "\n",
              "    .dataframe tbody tr th {\n",
              "        vertical-align: top;\n",
              "    }\n",
              "\n",
              "    .dataframe thead th {\n",
              "        text-align: right;\n",
              "    }\n",
              "</style>\n",
              "<table border=\"1\" class=\"dataframe\">\n",
              "  <thead>\n",
              "    <tr style=\"text-align: right;\">\n",
              "      <th></th>\n",
              "      <th>형태소</th>\n",
              "      <th>품사</th>\n",
              "      <th>분류</th>\n",
              "      <th>카운트</th>\n",
              "    </tr>\n",
              "  </thead>\n",
              "  <tbody>\n",
              "    <tr>\n",
              "      <th>0</th>\n",
              "      <td>길고</td>\n",
              "      <td>Adjective</td>\n",
              "      <td>5일의마중</td>\n",
              "      <td>1</td>\n",
              "    </tr>\n",
              "    <tr>\n",
              "      <th>1</th>\n",
              "      <td>긴</td>\n",
              "      <td>Verb</td>\n",
              "      <td>5일의마중</td>\n",
              "      <td>1</td>\n",
              "    </tr>\n",
              "    <tr>\n",
              "      <th>2</th>\n",
              "      <td>여운</td>\n",
              "      <td>Noun</td>\n",
              "      <td>5일의마중</td>\n",
              "      <td>1</td>\n",
              "    </tr>\n",
              "    <tr>\n",
              "      <th>3</th>\n",
              "      <td>을</td>\n",
              "      <td>Josa</td>\n",
              "      <td>5일의마중</td>\n",
              "      <td>1</td>\n",
              "    </tr>\n",
              "    <tr>\n",
              "      <th>4</th>\n",
              "      <td>깰</td>\n",
              "      <td>Verb</td>\n",
              "      <td>5일의마중</td>\n",
              "      <td>1</td>\n",
              "    </tr>\n",
              "    <tr>\n",
              "      <th>...</th>\n",
              "      <td>...</td>\n",
              "      <td>...</td>\n",
              "      <td>...</td>\n",
              "      <td>...</td>\n",
              "    </tr>\n",
              "    <tr>\n",
              "      <th>11</th>\n",
              "      <td>보다가</td>\n",
              "      <td>Verb</td>\n",
              "      <td>패왕별희</td>\n",
              "      <td>1</td>\n",
              "    </tr>\n",
              "    <tr>\n",
              "      <th>12</th>\n",
              "      <td>토</td>\n",
              "      <td>Noun</td>\n",
              "      <td>패왕별희</td>\n",
              "      <td>1</td>\n",
              "    </tr>\n",
              "    <tr>\n",
              "      <th>13</th>\n",
              "      <td>할</td>\n",
              "      <td>Verb</td>\n",
              "      <td>패왕별희</td>\n",
              "      <td>1</td>\n",
              "    </tr>\n",
              "    <tr>\n",
              "      <th>14</th>\n",
              "      <td>뻔해서</td>\n",
              "      <td>Adjective</td>\n",
              "      <td>패왕별희</td>\n",
              "      <td>1</td>\n",
              "    </tr>\n",
              "    <tr>\n",
              "      <th>15</th>\n",
              "      <td>껐다</td>\n",
              "      <td>Verb</td>\n",
              "      <td>패왕별희</td>\n",
              "      <td>1</td>\n",
              "    </tr>\n",
              "  </tbody>\n",
              "</table>\n",
              "<p>624023 rows × 4 columns</p>\n",
              "</div>"
            ],
            "text/plain": [
              "    형태소         품사     분류  카운트\n",
              "0    길고  Adjective  5일의마중    1\n",
              "1     긴       Verb  5일의마중    1\n",
              "2    여운       Noun  5일의마중    1\n",
              "3     을       Josa  5일의마중    1\n",
              "4     깰       Verb  5일의마중    1\n",
              "..  ...        ...    ...  ...\n",
              "11  보다가       Verb   패왕별희    1\n",
              "12    토       Noun   패왕별희    1\n",
              "13    할       Verb   패왕별희    1\n",
              "14  뻔해서  Adjective   패왕별희    1\n",
              "15   껐다       Verb   패왕별희    1\n",
              "\n",
              "[624023 rows x 4 columns]"
            ]
          },
          "metadata": {
            "tags": []
          },
          "execution_count": 15
        }
      ]
    },
    {
      "cell_type": "code",
      "metadata": {
        "id": "jQqgpDTBrjCd"
      },
      "source": [
        "# \"분석통합\" 변수의 내용을 형태소, 품사, 분류가 같은 것을 합치고, 카운트의 총합을 구해서 \"그룹통합\" 변수에 저장한다.\n",
        "그룹통합 = 분석통합.groupby(['형태소', '품사', \"분류\"])['카운트'].sum()"
      ],
      "execution_count": null,
      "outputs": []
    },
    {
      "cell_type": "code",
      "metadata": {
        "id": "kbEoacSbrnC1",
        "colab": {
          "base_uri": "https://localhost:8080/"
        },
        "outputId": "970b1707-769d-45d6-dc21-68c7d52bfff3"
      },
      "source": [
        "# \"그룹통합\" 변수의 저장 내용 확인\n",
        "그룹통합"
      ],
      "execution_count": null,
      "outputs": [
        {
          "output_type": "execute_result",
          "data": {
            "text/plain": [
              "형태소      품사       분류             \n",
              "\u0002        Foreign  나의 소녀시대            1\n",
              "\u0002\u0002       Foreign  나의 소녀시대            1\n",
              "\u0003        Foreign  그시절 우리가 좋아했던 소녀    2\n",
              "                  시절인연               1\n",
              "\b        Foreign  말할 수 없는 비밀         1\n",
              "                                    ..\n",
              "不能說的秘密   Foreign  말할 수 없는 비밀         3\n",
              "＊        Foreign  말할 수 없는 비밀         3\n",
              "，        Foreign  그시절 우리가 좋아했던 소녀    1\n",
              "，又不是女嬌娥  Foreign  패왕별희               1\n",
              "＠        Foreign  그시절 우리가 좋아했던 소녀    1\n",
              "Name: 카운트, Length: 61634, dtype: int64"
            ]
          },
          "metadata": {
            "tags": []
          },
          "execution_count": 17
        }
      ]
    },
    {
      "cell_type": "code",
      "metadata": {
        "id": "lrMR5a-rroxU"
      },
      "source": [
        "# \"그룹통합\" 변수의 내용을 데이터프레임 형식으로 변환해서 \"그룹통합\" 변수에 저장한다.\n",
        "그룹통합 = pd.DataFrame(그룹통합)"
      ],
      "execution_count": null,
      "outputs": []
    },
    {
      "cell_type": "code",
      "metadata": {
        "id": "sSjWDwgjsDCk",
        "colab": {
          "base_uri": "https://localhost:8080/",
          "height": 450
        },
        "outputId": "b77da6b2-7453-4a49-dbca-f9c17df6ecb2"
      },
      "source": [
        "# \"그룹통합\" 변수의 저장 내용 확인\n",
        "그룹통합"
      ],
      "execution_count": null,
      "outputs": [
        {
          "output_type": "execute_result",
          "data": {
            "text/html": [
              "<div>\n",
              "<style scoped>\n",
              "    .dataframe tbody tr th:only-of-type {\n",
              "        vertical-align: middle;\n",
              "    }\n",
              "\n",
              "    .dataframe tbody tr th {\n",
              "        vertical-align: top;\n",
              "    }\n",
              "\n",
              "    .dataframe thead th {\n",
              "        text-align: right;\n",
              "    }\n",
              "</style>\n",
              "<table border=\"1\" class=\"dataframe\">\n",
              "  <thead>\n",
              "    <tr style=\"text-align: right;\">\n",
              "      <th></th>\n",
              "      <th></th>\n",
              "      <th></th>\n",
              "      <th>카운트</th>\n",
              "    </tr>\n",
              "    <tr>\n",
              "      <th>형태소</th>\n",
              "      <th>품사</th>\n",
              "      <th>분류</th>\n",
              "      <th></th>\n",
              "    </tr>\n",
              "  </thead>\n",
              "  <tbody>\n",
              "    <tr>\n",
              "      <th>\u0002</th>\n",
              "      <th>Foreign</th>\n",
              "      <th>나의 소녀시대</th>\n",
              "      <td>1</td>\n",
              "    </tr>\n",
              "    <tr>\n",
              "      <th>\u0002\u0002</th>\n",
              "      <th>Foreign</th>\n",
              "      <th>나의 소녀시대</th>\n",
              "      <td>1</td>\n",
              "    </tr>\n",
              "    <tr>\n",
              "      <th rowspan=\"2\" valign=\"top\">\u0003</th>\n",
              "      <th rowspan=\"2\" valign=\"top\">Foreign</th>\n",
              "      <th>그시절 우리가 좋아했던 소녀</th>\n",
              "      <td>2</td>\n",
              "    </tr>\n",
              "    <tr>\n",
              "      <th>시절인연</th>\n",
              "      <td>1</td>\n",
              "    </tr>\n",
              "    <tr>\n",
              "      <th>\b</th>\n",
              "      <th>Foreign</th>\n",
              "      <th>말할 수 없는 비밀</th>\n",
              "      <td>1</td>\n",
              "    </tr>\n",
              "    <tr>\n",
              "      <th>...</th>\n",
              "      <th>...</th>\n",
              "      <th>...</th>\n",
              "      <td>...</td>\n",
              "    </tr>\n",
              "    <tr>\n",
              "      <th>不能說的秘密</th>\n",
              "      <th>Foreign</th>\n",
              "      <th>말할 수 없는 비밀</th>\n",
              "      <td>3</td>\n",
              "    </tr>\n",
              "    <tr>\n",
              "      <th>＊</th>\n",
              "      <th>Foreign</th>\n",
              "      <th>말할 수 없는 비밀</th>\n",
              "      <td>3</td>\n",
              "    </tr>\n",
              "    <tr>\n",
              "      <th>，</th>\n",
              "      <th>Foreign</th>\n",
              "      <th>그시절 우리가 좋아했던 소녀</th>\n",
              "      <td>1</td>\n",
              "    </tr>\n",
              "    <tr>\n",
              "      <th>，又不是女嬌娥</th>\n",
              "      <th>Foreign</th>\n",
              "      <th>패왕별희</th>\n",
              "      <td>1</td>\n",
              "    </tr>\n",
              "    <tr>\n",
              "      <th>＠</th>\n",
              "      <th>Foreign</th>\n",
              "      <th>그시절 우리가 좋아했던 소녀</th>\n",
              "      <td>1</td>\n",
              "    </tr>\n",
              "  </tbody>\n",
              "</table>\n",
              "<p>61634 rows × 1 columns</p>\n",
              "</div>"
            ],
            "text/plain": [
              "                                 카운트\n",
              "형태소     품사      분류                  \n",
              "\u0002       Foreign 나의 소녀시대            1\n",
              "\u0002\u0002      Foreign 나의 소녀시대            1\n",
              "\u0003       Foreign 그시절 우리가 좋아했던 소녀    2\n",
              "                시절인연               1\n",
              "\b       Foreign 말할 수 없는 비밀         1\n",
              "...                              ...\n",
              "不能說的秘密  Foreign 말할 수 없는 비밀         3\n",
              "＊       Foreign 말할 수 없는 비밀         3\n",
              "，       Foreign 그시절 우리가 좋아했던 소녀    1\n",
              "，又不是女嬌娥 Foreign 패왕별희               1\n",
              "＠       Foreign 그시절 우리가 좋아했던 소녀    1\n",
              "\n",
              "[61634 rows x 1 columns]"
            ]
          },
          "metadata": {
            "tags": []
          },
          "execution_count": 19
        }
      ]
    },
    {
      "cell_type": "code",
      "metadata": {
        "id": "F10LD-NtsjfX"
      },
      "source": [
        "# \"그룹통합\" 변수의 내용을 \"형태소분석결과.csv\" 파일로 저장한다.\n",
        "# header는 컬럼(열) 정보의 포함 여부이다.\n",
        "# encoding은 문자코드를 선택하는 것이다. python에서는 기본적으로 utf-8(유니코드)를 사용한다.\n",
        "\n",
        "그룹통합.to_csv('형태소분석결과.csv', header='true', encoding='utf-8')"
      ],
      "execution_count": null,
      "outputs": []
    },
    {
      "cell_type": "code",
      "metadata": {
        "id": "DitYYQhBQFSP"
      },
      "source": [
        ""
      ],
      "execution_count": null,
      "outputs": []
    }
  ]
}